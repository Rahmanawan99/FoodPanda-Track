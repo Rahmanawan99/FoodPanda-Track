{
  "nbformat": 4,
  "nbformat_minor": 0,
  "metadata": {
    "colab": {
      "provenance": []
    },
    "kernelspec": {
      "name": "python3",
      "display_name": "Python 3"
    },
    "language_info": {
      "name": "python"
    }
  },
  "cells": [
    {
      "cell_type": "code",
      "execution_count": 4,
      "metadata": {
        "id": "nbQYvq6GY_f7"
      },
      "outputs": [],
      "source": [
        "import os\n",
        "import re\n",
        "import email\n",
        "import pandas as pd\n",
        "import quopri\n",
        "import email\n",
        "import re\n",
        "import pandas as pd\n",
        "import quopri\n",
        "import os"
      ]
    },
    {
      "cell_type": "code",
      "source": [
        "def extract_invoice_data(eml_file_path):\n",
        "    with open(eml_file_path, 'r', encoding='utf-8') as f:\n",
        "        msg = email.message_from_file(f)\n",
        "\n",
        "        payload = msg.get_payload()\n",
        "        if isinstance(payload, list):\n",
        "            payload = payload[0].get_payload()\n",
        "\n",
        "        body = quopri.decodestring(payload).decode('utf-8', errors='ignore')\n",
        "\n",
        "        # Extract order number, time, and restaurant name\n",
        "        order_number = re.search(r'Order number:\\s*(\\S+)', body)\n",
        "        order_time = re.search(r'Order time:\\s*([\\d-]+\\s[\\d:]+)', body)\n",
        "        restaurant_name = re.search(r\"Your order from\\s*(.+?)\\swill\", body)\n",
        "\n",
        "        # Extract items and prices\n",
        "        items = re.findall(r\"(\\d+)\\sX\\s([\\w\\s\\-&]+)\\s+Rs\\.\\s([\\d,]+)\", body)\n",
        "        breakdown = re.findall(r\"(Subtotal|Incl\\. delivery fee|Platform fee|Rider tip|Discount|Order Total|Including [\\d.]+% tax)\\s+Rs\\.\\s([\\d\\.\\-,]+)\", body)\n",
        "\n",
        "        # Format the extracted data\n",
        "        return {\n",
        "            'Order Number': order_number.group(1) if order_number else None,\n",
        "            'Order Time': order_time.group(1) if order_time else None,\n",
        "            'Restaurant Name': restaurant_name.group(1) if restaurant_name else None,\n",
        "            'Items': items,  # List of tuples (Qty, Item Name, Price)\n",
        "            'Breakdown': breakdown  # List of tuples (Breakdown Label, Price)\n",
        "        }\n",
        "\n",
        "directory = '/content/eml'  # Use the directory where your .eml file resides\n",
        "\n",
        "data_list = []\n",
        "for filename in os.listdir(directory):\n",
        "    if filename.endswith(\".eml\"):\n",
        "        eml_file_path = os.path.join(directory, filename)\n",
        "        data = extract_invoice_data(eml_file_path)\n",
        "        if data:\n",
        "            # Separate items and breakdown for tabular display\n",
        "            for qty, item, price in data['Items']:\n",
        "                row = {\n",
        "                    'Order Number': data['Order Number'],\n",
        "                    'Order Time': data['Order Time'],\n",
        "                    'Restaurant Name': data['Restaurant Name'],\n",
        "                    'Qty': qty,\n",
        "                    'Item': item.strip(),\n",
        "                    'Price': price.replace(\",\", \"\")\n",
        "                }\n",
        "                data_list.append(row)\n",
        "            for label, value in data['Breakdown']:\n",
        "                data_list.append({\n",
        "                    'Order Number': data['Order Number'],\n",
        "                    'Order Time': data['Order Time'],\n",
        "                    'Restaurant Name': data['Restaurant Name'],\n",
        "                    'Qty': '',\n",
        "                    'Item': label.strip(),\n",
        "                    'Price': value.replace(\",\", \"\")\n",
        "                })\n",
        "\n",
        "df = pd.DataFrame(data_list)\n",
        "print(df)\n"
      ],
      "metadata": {
        "id": "yCSfxZ5lbYE5"
      },
      "execution_count": null,
      "outputs": []
    },
    {
      "cell_type": "code",
      "source": [
        "df.to_csv('FoodPanda_2.csv', index=False)"
      ],
      "metadata": {
        "id": "toV4TxWQyDD6"
      },
      "execution_count": 7,
      "outputs": []
    }
  ]
}